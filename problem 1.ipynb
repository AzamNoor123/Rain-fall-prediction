{
 "cells": [
  {
   "cell_type": "code",
   "execution_count": 20,
   "id": "2ba8490d-671c-43ef-80ca-20731eba7cdc",
   "metadata": {},
   "outputs": [],
   "source": [
    "import numpy as np\n",
    "import pandas as pd\n",
    "import matplotlib.pyplot as plt\n",
    "# reading data from csv file \n",
    "CSV_Data= pd.read_csv(\"Rain_Dataset.csv\", header=None)\n",
    "X= CSV_Data.iloc[:,0].values\n",
    "Y=CSV_Data.iloc[:,1].values\n"
   ]
  },
  {
   "cell_type": "code",
   "execution_count": 21,
   "id": "f5edd572-9e9d-45f1-b135-16d6aafd54c2",
   "metadata": {},
   "outputs": [],
   "source": [
    "# Normalization and ploting\n",
    "meanX=np.mean(X)\n",
    "meanY=np.mean(Y)\n",
    "stdX=np.std(X)\n",
    "stdY=np.std(Y)\n",
    "X=(X-meanX)/stdX\n",
    "Y=(Y-meanY)/stdY\n",
    "# plt.scatter(X,Y)\n",
    "# plt.show()\n",
    "# plt.close()\n",
    "\n",
    "\n",
    "# creating array structure\n",
    "X = X[:, np.newaxis]\n",
    "Y = Y[:, np.newaxis]\n",
    "m, col = X.shape\n",
    "new_m = np.ones((m, 1))\n",
    "theta = np.zeros((2,1))\n",
    "\n",
    "iterations = 7000\n",
    "alpha = 0.01\n",
    "\n",
    "\n",
    "\n",
    "\n"
   ]
  },
  {
   "cell_type": "code",
   "execution_count": 22,
   "id": "66e38235-dfb5-4669-a6db-2de9d70e268f",
   "metadata": {},
   "outputs": [],
   "source": [
    "# Defining Cost function\n",
    "\n",
    "def Get_cost_J(X,Y,Theta):\n",
    "    Pridictions = np.dot(X,Theta)\n",
    "    Error = Pridictions-Y\n",
    "    SqrError = np.power(Error,2)\n",
    "    SumSqrError = np.sum(SqrError)\n",
    "    J  = (1/2*m)*SumSqrError # Where m is tototal number of rows\n",
    "    return J"
   ]
  },
  {
   "cell_type": "code",
   "execution_count": 23,
   "id": "719429d1-05a3-48a1-af5f-ff80e441b42c",
   "metadata": {},
   "outputs": [],
   "source": [
    "# defining hypothesis \n",
    "#def hyppothesis(theta, X):\n",
    "   # hyp=np.dot(theta,X)\n",
    "    #return hyp\n",
    "    \n",
    "    "
   ]
  },
  {
   "cell_type": "code",
   "execution_count": 24,
   "id": "6ba80eee-9434-42bf-8869-7846a5548555",
   "metadata": {},
   "outputs": [],
   "source": [
    "# defining cost_functions\n",
    "def cost_function(X,Y,theta):\n",
    "    perdictions=np.dot(X,theta)\n",
    "    error=perdictions-Y\n",
    "    sqerror= np.power(error,2)\n",
    "    sumsqerror=np.sum(sqerror)\n",
    "    J=(1/2*m)*sumsqerror\n",
    "    return J\n",
    "    \n"
   ]
  },
  {
   "cell_type": "code",
   "execution_count": 25,
   "id": "822eea7c-0a82-4e1b-b706-0daf0849a25b",
   "metadata": {},
   "outputs": [],
   "source": [
    "#Defining Gradient Decent Algorithm\n",
    "\n",
    "\n",
    "\n",
    "def Gradient_Decent_Algo(X,Y,Theta,alpha,itrations,m):\n",
    "    histroy = np.zeros((itrations,1))\n",
    "    for i in range(itrations):\n",
    "        error =(np.dot(X,Theta))-Y \n",
    "        loos = (np.dot(X.T,error))*alpha/m\n",
    "        Theta = Theta - loos\n",
    "        histroy[i] = Get_cost_J(X, Y, Theta)\n",
    "        \n",
    "    return (histroy,Theta)"
   ]
  },
  {
   "cell_type": "code",
   "execution_count": 26,
   "id": "8968bb80-8536-486b-ae50-b372800c16a6",
   "metadata": {},
   "outputs": [],
   "source": [
    "#get prediction\n",
    "\n",
    "def get_pridiction(x,theta):\n",
    "    \n",
    "    x = (x - meanX)/stdX\n",
    "    y = theta[0,0]+theta[1,0]*x\n",
    "    y = (y*stdY+meanY)    # normalize back \n",
    "    \n",
    "    return y\n",
    "\n",
    "\n",
    "\n"
   ]
  },
  {
   "cell_type": "code",
   "execution_count": 27,
   "id": "b9a35a45-a7ce-4cd3-a7ae-93d6482744f5",
   "metadata": {},
   "outputs": [
    {
     "name": "stdin",
     "output_type": "stream",
     "text": [
      "ENTER YOUR DATE FOR CHECKING RAINFALL 5\n"
     ]
    },
    {
     "name": "stdout",
     "output_type": "stream",
     "text": [
      "The expacted RAIN FALL is 4.375\n"
     ]
    }
   ],
   "source": [
    "YEAR=int(input(\"ENTER YOUR DATE FOR CHECKING RAINFALL\"))\n",
    "print(\"The expacted RAIN FALL is\", get_pridiction(YEAR,theta))"
   ]
  },
  {
   "cell_type": "code",
   "execution_count": null,
   "id": "2e74c556-70f4-40dc-a574-7f1322215730",
   "metadata": {},
   "outputs": [],
   "source": []
  }
 ],
 "metadata": {
  "kernelspec": {
   "display_name": "Python 3 (ipykernel)",
   "language": "python",
   "name": "python3"
  },
  "language_info": {
   "codemirror_mode": {
    "name": "ipython",
    "version": 3
   },
   "file_extension": ".py",
   "mimetype": "text/x-python",
   "name": "python",
   "nbconvert_exporter": "python",
   "pygments_lexer": "ipython3",
   "version": "3.12.4"
  }
 },
 "nbformat": 4,
 "nbformat_minor": 5
}
